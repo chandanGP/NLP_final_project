{
 "cells": [
  {
   "cell_type": "markdown",
   "metadata": {},
   "source": [
    "# This is implimentation of \"Knowledge Neurons in Pretrained Transformers\"\n",
    "by Damai Dai, Li Dong, Yaru Hao, Zhifang Sui, Baobao Chang, Furu Wei\" "
   ]
  },
  {
   "cell_type": "markdown",
   "metadata": {},
   "source": [
    "* dependencies to be installed are : torch, transformers version 4.12.5 , jsonlines"
   ]
  },
  {
   "cell_type": "markdown",
   "metadata": {},
   "source": [
    "## to calculate the Attribution Scores run the following command"
   ]
  },
  {
   "cell_type": "code",
   "execution_count": null,
   "metadata": {},
   "outputs": [],
   "source": [
    "!bash 1_run_mlm.sh param1"
   ]
  },
  {
   "cell_type": "markdown",
   "metadata": {},
   "source": [
    "* where param1 is the relation name to analyze, such as \"P101\". You can run this command for each of the 34 relations. This command will calculate the attribution scores for all the facts."
   ]
  },
  {
   "cell_type": "markdown",
   "metadata": {},
   "source": [
    "## to identify Knowledge Neurons run the following command"
   ]
  },
  {
   "cell_type": "code",
   "execution_count": null,
   "metadata": {},
   "outputs": [],
   "source": [
    "!bash 2_run_kn.sh."
   ]
  },
  {
   "cell_type": "markdown",
   "metadata": {},
   "source": [
    "* This command will identify and refine knowledge neurons for each fact, and give their statistics along with a figure about the knowledge neuron distribution."
   ]
  },
  {
   "cell_type": "markdown",
   "metadata": {},
   "source": [
    "## to Modify Knowledge Neurons run the following command"
   ]
  },
  {
   "cell_type": "code",
   "execution_count": null,
   "metadata": {},
   "outputs": [],
   "source": [
    "!bash 3_run_modify_activation.sh"
   ]
  },
  {
   "cell_type": "markdown",
   "metadata": {},
   "source": [
    "* This command will modify the activation values of knowledge neurons and record the corresponding results."
   ]
  },
  {
   "cell_type": "markdown",
   "metadata": {},
   "source": [
    "## to Check Knowledge Neuron Activation for Prompts run the following command"
   ]
  },
  {
   "cell_type": "code",
   "execution_count": null,
   "metadata": {},
   "outputs": [],
   "source": [
    "!bash 4_run_distant.sh"
   ]
  },
  {
   "cell_type": "markdown",
   "metadata": {},
   "source": [
    "* This command will check the activation values of knowledge neurons for different types of prompts crawled from web pages.(this takes 3 days for all relatoin types)"
   ]
  },
  {
   "cell_type": "markdown",
   "metadata": {},
   "source": [
    "## to Plot Figures"
   ]
  },
  {
   "cell_type": "code",
   "execution_count": null,
   "metadata": {},
   "outputs": [],
   "source": [
    "!bash 8_run_plot.sh"
   ]
  },
  {
   "cell_type": "markdown",
   "metadata": {},
   "source": [
    "* This command will plot two figures that visualize the results from 3_run_modify_activation.sh and 4_run_distant.sh"
   ]
  },
  {
   "cell_type": "markdown",
   "metadata": {},
   "source": [
    "# Model  used"
   ]
  },
  {
   "cell_type": "code",
   "execution_count": 2,
   "metadata": {},
   "outputs": [
    {
     "name": "stderr",
     "output_type": "stream",
     "text": [
      "/home/chandan/anaconda3/envs/NLP2/lib/python3.10/site-packages/tqdm/auto.py:21: TqdmWarning: IProgress not found. Please update jupyter and ipywidgets. See https://ipywidgets.readthedocs.io/en/stable/user_install.html\n",
      "  from .autonotebook import tqdm as notebook_tqdm\n"
     ]
    }
   ],
   "source": [
    "import logging\n",
    "import argparse\n",
    "import math\n",
    "import os\n",
    "import torch\n",
    "import random\n",
    "import numpy as np\n",
    "import json, jsonlines\n",
    "import pickle\n",
    "import time\n",
    "\n",
    "import transformers\n",
    "from transformers import BertTokenizer\n",
    "from custom_bert import BertForMaskedLM\n",
    "import torch.nn.functional as F\n",
    "#from ..project.knowledge_neurons.src.custom_bert import BertForMaskedLM"
   ]
  },
  {
   "cell_type": "code",
   "execution_count": 6,
   "metadata": {},
   "outputs": [],
   "source": [
    "device = torch.device('cuda:0' if torch.cuda.is_available() else 'cpu')"
   ]
  },
  {
   "cell_type": "code",
   "execution_count": 7,
   "metadata": {},
   "outputs": [
    {
     "data": {
      "text/plain": [
       "BertForMaskedLM(\n",
       "  (bert): BertModel(\n",
       "    (embeddings): BertEmbeddings(\n",
       "      (word_embeddings): Embedding(28996, 768)\n",
       "      (position_embeddings): Embedding(512, 768)\n",
       "      (token_type_embeddings): Embedding(2, 768)\n",
       "      (LayerNorm): BertLayerNorm()\n",
       "      (dropout): Dropout(p=0.1, inplace=False)\n",
       "    )\n",
       "    (encoder): BertEncoder(\n",
       "      (layer): ModuleList(\n",
       "        (0-11): 12 x BertLayer(\n",
       "          (attention): BertAttention(\n",
       "            (self): BertSelfAttention(\n",
       "              (query): Linear(in_features=768, out_features=768, bias=True)\n",
       "              (key): Linear(in_features=768, out_features=768, bias=True)\n",
       "              (value): Linear(in_features=768, out_features=768, bias=True)\n",
       "              (dropout): Dropout(p=0.1, inplace=False)\n",
       "            )\n",
       "            (output): BertSelfOutput(\n",
       "              (dense): Linear(in_features=768, out_features=768, bias=True)\n",
       "              (LayerNorm): BertLayerNorm()\n",
       "              (dropout): Dropout(p=0.1, inplace=False)\n",
       "            )\n",
       "          )\n",
       "          (intermediate): BertIntermediate(\n",
       "            (dense): Linear(in_features=768, out_features=3072, bias=True)\n",
       "          )\n",
       "          (output): BertOutput(\n",
       "            (dense): Linear(in_features=3072, out_features=768, bias=True)\n",
       "            (LayerNorm): BertLayerNorm()\n",
       "            (dropout): Dropout(p=0.1, inplace=False)\n",
       "          )\n",
       "        )\n",
       "      )\n",
       "    )\n",
       "  )\n",
       "  (cls): BertOnlyMLMHead(\n",
       "    (predictions): BertLMPredictionHead(\n",
       "      (transform): BertPredictionHeadTransform(\n",
       "        (dense): Linear(in_features=768, out_features=768, bias=True)\n",
       "        (LayerNorm): BertLayerNorm()\n",
       "      )\n",
       "      (decoder): Linear(in_features=768, out_features=28996, bias=False)\n",
       "    )\n",
       "  )\n",
       ")"
      ]
     },
     "execution_count": 7,
     "metadata": {},
     "output_type": "execute_result"
    }
   ],
   "source": [
    "\n",
    "tokenizer = BertTokenizer.from_pretrained('bert-base-cased', do_lower_case=False)\n",
    "model = BertForMaskedLM.from_pretrained('bert-base-cased')\n",
    "model = model.to(device)\n",
    "model"
   ]
  },
  {
   "cell_type": "code",
   "execution_count": 43,
   "metadata": {},
   "outputs": [
    {
     "data": {
      "text/plain": [
       "[['Alan Turing works in the field of [MASK].', 'logic', 'P101(field of work)'],\n",
       " ['Alan Turing specializes in [MASK].', 'logic', 'P101(field of work)'],\n",
       " ['[MASK] is the specialization of Alan Turing.',\n",
       "  'logic',\n",
       "  'P101(field of work)'],\n",
       " ['The expertise of Alan Turing is [MASK].', 'logic', 'P101(field of work)'],\n",
       " ['[MASK] is the expertise of Alan Turing.', 'logic', 'P101(field of work)'],\n",
       " ['The domain of activity of Alan Turing is [MASK].',\n",
       "  'logic',\n",
       "  'P101(field of work)'],\n",
       " ['The domain of work of Alan Turing is [MASK].',\n",
       "  'logic',\n",
       "  'P101(field of work)'],\n",
       " ['[MASK] is the domain of activity of Alan Turing.',\n",
       "  'logic',\n",
       "  'P101(field of work)'],\n",
       " [\"Alan Turing's area of work is [MASK].\", 'logic', 'P101(field of work)'],\n",
       " [\"Alan Turing's domain of work is [MASK].\", 'logic', 'P101(field of work)'],\n",
       " [\"Alan Turing's domain of activity is [MASK].\",\n",
       "  'logic',\n",
       "  'P101(field of work)'],\n",
       " [\"Alan Turing's expertise is [MASK].\", 'logic', 'P101(field of work)'],\n",
       " ['Alan Turing works in the area of [MASK].', 'logic', 'P101(field of work)']]"
      ]
     },
     "execution_count": 43,
     "metadata": {},
     "output_type": "execute_result"
    }
   ],
   "source": [
    "#an example of a input prompt, expected output and it's relation type\n",
    "eval_bag_list_perrel['P101'][0]"
   ]
  },
  {
   "cell_type": "markdown",
   "metadata": {},
   "source": [
    "# Analysing model for knowledge neuron"
   ]
  },
  {
   "cell_type": "code",
   "execution_count": 20,
   "metadata": {},
   "outputs": [],
   "source": [
    "import jsonlines, json\n",
    "import numpy as np\n",
    "from collections import Counter\n",
    "import os\n",
    "import torch\n",
    "import matplotlib.pyplot as plt\n",
    "import seaborn as sns\n",
    "\n",
    "import random\n",
    "\n",
    "import pandas as pd\n",
    "from pandas.core.frame import DataFrame"
   ]
  },
  {
   "cell_type": "code",
   "execution_count": 2,
   "metadata": {},
   "outputs": [],
   "source": [
    "threshold_ratio = 0.2\n",
    "mode_ratio_bag = 0.7\n",
    "mode_ratio_rel = 0.1\n",
    "kn_dir = '/home/chandan/NLP/project/knowledge_neurons/results/kn'\n",
    "rlts_dir = '/home/chandan/NLP/project/knowledge_neurons/results'"
   ]
  },
  {
   "cell_type": "code",
   "execution_count": 3,
   "metadata": {},
   "outputs": [],
   "source": [
    "def re_filter(metric_triplets):\n",
    "    metric_max = -999\n",
    "    for i in range(len(metric_triplets)):\n",
    "        metric_max = max(metric_max, metric_triplets[i][2])\n",
    "    metric_triplets = [triplet for triplet in metric_triplets if triplet[2] >= metric_max * threshold_ratio]\n",
    "    return metric_triplets\n",
    "\n",
    "\n",
    "def pos_list2str(pos_list):\n",
    "    return '@'.join([str(pos) for pos in pos_list])\n",
    "\n",
    "\n",
    "def pos_str2list(pos_str):\n",
    "    return [int(pos) for pos in pos_str.split('@')]\n",
    "\n",
    "\n",
    "def parse_kn(pos_cnt, tot_num, mode_ratio, min_threshold=0):\n",
    "    mode_threshold = tot_num * mode_ratio\n",
    "    mode_threshold = max(mode_threshold, min_threshold)\n",
    "    kn_bag = []\n",
    "    for pos_str, cnt in pos_cnt.items():\n",
    "        if cnt >= mode_threshold:\n",
    "            kn_bag.append(pos_str2list(pos_str))\n",
    "    return kn_bag\n",
    "\n",
    "\n",
    "def analysis_file(filename, metric='ig_gold'):\n",
    "    rel = filename.split('.')[0].split('-')[-1]\n",
    "    print(f'===========> parsing important position in {rel}..., mode_ratio_bag={mode_ratio_bag}')\n",
    "\n",
    "    rlts_bag_list = []\n",
    "    with open(os.path.join(rlts_dir, filename), 'r') as fr:\n",
    "        for rlts_bag in jsonlines.Reader(fr):\n",
    "            rlts_bag_list.append(rlts_bag)\n",
    "\n",
    "    ave_kn_num = 0\n",
    "\n",
    "    kn_bag_list = []\n",
    "    # get imp pos by bag_ig\n",
    "    for bag_idx, rlts_bag in enumerate(rlts_bag_list):\n",
    "        pos_cnt_bag = Counter()\n",
    "        for rlt in rlts_bag:\n",
    "            res_dict = rlt[1]\n",
    "            metric_triplets = re_filter(res_dict[metric])\n",
    "            for metric_triplet in metric_triplets:\n",
    "                pos_cnt_bag.update([pos_list2str(metric_triplet[:2])])\n",
    "        kn_bag = parse_kn(pos_cnt_bag, len(rlts_bag), mode_ratio_bag, 3)\n",
    "        ave_kn_num += len(kn_bag)\n",
    "        kn_bag_list.append(kn_bag)\n",
    "\n",
    "    ave_kn_num /= len(rlts_bag_list)\n",
    "\n",
    "    # get imp pos by rel_ig\n",
    "    pos_cnt_rel = Counter()\n",
    "    for kn_bag in kn_bag_list:\n",
    "        for kn in kn_bag:\n",
    "            pos_cnt_rel.update([pos_list2str(kn)])\n",
    "    kn_rel = parse_kn(pos_cnt_rel, len(kn_bag_list), mode_ratio_rel)\n",
    "\n",
    "    return ave_kn_num, kn_bag_list, kn_rel\n",
    "\n",
    "\n",
    "def stat(data, pos_type, rel):\n",
    "    if pos_type == 'kn_rel':\n",
    "        print(f'{rel}\\'s {pos_type} has {len(data)} imp pos. ')\n",
    "        return\n",
    "    ave_len = 0\n",
    "    for kn_bag in data:\n",
    "        ave_len += len(kn_bag)\n",
    "    ave_len /= len(data)\n",
    "    print(f'{rel}\\'s {pos_type} has on average {ave_len} imp pos. ')\n"
   ]
  },
  {
   "cell_type": "code",
   "execution_count": 11,
   "metadata": {},
   "outputs": [
    {
     "name": "stdout",
     "output_type": "stream",
     "text": [
      "===========> parsing important position in P20..., mode_ratio_bag=0.7\n"
     ]
    },
    {
     "name": "stdout",
     "output_type": "stream",
     "text": [
      "P20's kn_bag has on average 4.906610703043022 imp pos. \n",
      "P20's kn_rel has 12 imp pos. \n",
      "===========> parsing important position in P20..., mode_ratio_bag=0.7\n",
      "===========> parsing important position in P20..., mode_ratio_bag=0.75\n",
      "===========> parsing important position in P20..., mode_ratio_bag=0.8\n",
      "P20's kn_bag has on average 3.7240293809024134 imp pos. \n",
      "P20's kn_rel has 8 imp pos. \n",
      "===========> parsing important position in P101..., mode_ratio_bag=0.7\n",
      "P101's kn_bag has on average 2.5344827586206895 imp pos. \n",
      "P101's kn_rel has 5 imp pos. \n",
      "===========> parsing important position in P101..., mode_ratio_bag=0.7\n",
      "P101's kn_bag has on average 4.748563218390805 imp pos. \n",
      "P101's kn_rel has 6 imp pos. \n",
      "===========> parsing important position in P37..., mode_ratio_bag=0.7\n",
      "===========> parsing important position in P37..., mode_ratio_bag=0.75\n",
      "===========> parsing important position in P37..., mode_ratio_bag=0.8\n",
      "P37's kn_bag has on average 4.286749482401656 imp pos. \n",
      "P37's kn_rel has 10 imp pos. \n",
      "===========> parsing important position in P37..., mode_ratio_bag=0.7\n",
      "===========> parsing important position in P37..., mode_ratio_bag=0.6499999999999999\n",
      "P37's kn_bag has on average 3.111801242236025 imp pos. \n",
      "P37's kn_rel has 5 imp pos. \n",
      "===========> parsing important position in P413..., mode_ratio_bag=0.7\n",
      "P413's kn_bag has on average 2.0304621848739495 imp pos. \n",
      "P413's kn_rel has 5 imp pos. \n",
      "===========> parsing important position in P413..., mode_ratio_bag=0.7\n",
      "P413's kn_bag has on average 2.9695378151260505 imp pos. \n",
      "P413's kn_rel has 8 imp pos. \n",
      "===========> parsing important position in P279..., mode_ratio_bag=0.7\n",
      "===========> parsing important position in P279..., mode_ratio_bag=0.75\n",
      "===========> parsing important position in P279..., mode_ratio_bag=0.8\n",
      "===========> parsing important position in P279..., mode_ratio_bag=0.8500000000000001\n",
      "===========> parsing important position in P279..., mode_ratio_bag=0.9000000000000001\n",
      "===========> parsing important position in P279..., mode_ratio_bag=0.9500000000000002\n",
      "P279's kn_bag has on average 8.968879668049793 imp pos. \n",
      "P279's kn_rel has 5 imp pos. \n",
      "===========> parsing important position in P279..., mode_ratio_bag=0.7\n",
      "===========> parsing important position in P279..., mode_ratio_bag=0.75\n",
      "===========> parsing important position in P279..., mode_ratio_bag=0.8\n",
      "P279's kn_bag has on average 4.535269709543568 imp pos. \n",
      "P279's kn_rel has 6 imp pos. \n",
      "===========> parsing important position in P19..., mode_ratio_bag=0.7\n",
      "===========> parsing important position in P19..., mode_ratio_bag=0.6499999999999999\n",
      "===========> parsing important position in P19..., mode_ratio_bag=0.5999999999999999\n",
      "P19's kn_bag has on average 2.5540254237288136 imp pos. \n",
      "P19's kn_rel has 5 imp pos. \n",
      "===========> parsing important position in P19..., mode_ratio_bag=0.7\n",
      "===========> parsing important position in P19..., mode_ratio_bag=0.75\n",
      "===========> parsing important position in P19..., mode_ratio_bag=0.8\n",
      "===========> parsing important position in P19..., mode_ratio_bag=0.8500000000000001\n",
      "===========> parsing important position in P19..., mode_ratio_bag=0.9000000000000001\n",
      "===========> parsing important position in P19..., mode_ratio_bag=0.9500000000000002\n",
      "P19's kn_bag has on average 4.539194915254237 imp pos. \n",
      "P19's kn_rel has 9 imp pos. \n"
     ]
    }
   ],
   "source": [
    "if not os.path.exists(kn_dir):\n",
    "    os.makedirs(kn_dir)\n",
    "for filename in os.listdir(rlts_dir):\n",
    "    if filename.endswith('.rlt.jsonl'):\n",
    "        threshold_ratio = 0.2\n",
    "        mode_ratio_bag = 0.7\n",
    "        for max_it in range(6):\n",
    "            ave_kn_num, kn_bag_list, kn_rel = analysis_file(filename)\n",
    "            if ave_kn_num < 2:\n",
    "                mode_ratio_bag -= 0.05\n",
    "            if ave_kn_num > 5:\n",
    "                mode_ratio_bag += 0.05\n",
    "            if ave_kn_num >= 2 and ave_kn_num <= 5:\n",
    "                break\n",
    "        rel = filename.split('.')[0].split('-')[-1]\n",
    "        stat(kn_bag_list, 'kn_bag', rel)\n",
    "        stat(kn_rel, 'kn_rel', rel)\n",
    "        with open(os.path.join(kn_dir, f'kn_bag-{rel}.json'), 'w') as fw:\n",
    "            json.dump(kn_bag_list, fw, indent=2)\n",
    "        with open(os.path.join(kn_dir, f'kn_rel-{rel}.json'), 'w') as fw:\n",
    "            json.dump(kn_rel, fw, indent=2)\n",
    "\n",
    "        threshold_ratio = 0.5\n",
    "        mode_ratio_bag = 0.7\n",
    "        for max_it in range(6):\n",
    "            ave_kn_num, kn_bag_list, kn_rel = analysis_file(filename, 'base')\n",
    "            if ave_kn_num < 2:\n",
    "                mode_ratio_bag -= 0.05\n",
    "            if ave_kn_num > 5:\n",
    "                mode_ratio_bag += 0.05\n",
    "            if ave_kn_num >= 2 and ave_kn_num <= 5:\n",
    "                break\n",
    "        rel = filename.split('.')[0].split('-')[-1]\n",
    "        stat(kn_bag_list, 'kn_bag', rel)\n",
    "        stat(kn_rel, 'kn_rel', rel)\n",
    "        with open(os.path.join(kn_dir, f'base_kn_bag-{rel}.json'), 'w') as fw:\n",
    "            json.dump(kn_bag_list, fw, indent=2)\n",
    "        with open(os.path.join(kn_dir, f'base_kn_rel-{rel}.json'), 'w') as fw:\n",
    "            json.dump(kn_rel, fw, indent=2)"
   ]
  },
  {
   "cell_type": "code",
   "execution_count": 8,
   "metadata": {},
   "outputs": [],
   "source": [
    "kn_dir = '/home/chandan/NLP/project/knowledge_neurons/results'\n",
    "fig_dir = '/home/chandan/NLP/project/knowledge_neurons/results/figs/'"
   ]
  },
  {
   "cell_type": "code",
   "execution_count": 13,
   "metadata": {},
   "outputs": [
    {
     "name": "stdout",
     "output_type": "stream",
     "text": [
      "average ig_kn 4.305205479452055\n"
     ]
    }
   ],
   "source": [
    "# =========== stat kn_bag ig ==============\n",
    "\n",
    "y_points = []\n",
    "tot_bag_num = 0\n",
    "tot_rel_num = 0\n",
    "tot_kneurons = 0\n",
    "kn_bag_counter = Counter()\n",
    "for filename in os.listdir(kn_dir):\n",
    "    if not filename.startswith('kn_bag-'):\n",
    "        continue\n",
    "    with open(os.path.join(kn_dir, filename), 'r') as f:\n",
    "        kn_bag_list = json.load(f)\n",
    "        for kn_bag in kn_bag_list:\n",
    "            for kn in kn_bag:\n",
    "                kn_bag_counter.update([kn[0]])\n",
    "                y_points.append(kn[0])\n",
    "        tot_bag_num += len(kn_bag_list)\n",
    "for k, v in kn_bag_counter.items():\n",
    "    tot_kneurons += kn_bag_counter[k]\n",
    "for k, v in kn_bag_counter.items():\n",
    "    kn_bag_counter[k] /= tot_kneurons\n",
    "\n",
    "# average # Kneurons\n",
    "print('average ig_kn', tot_kneurons / tot_bag_num)"
   ]
  },
  {
   "cell_type": "code",
   "execution_count": 14,
   "metadata": {},
   "outputs": [
    {
     "name": "stdout",
     "output_type": "stream",
     "text": [
      "average base_kn 3.898447488584475\n"
     ]
    }
   ],
   "source": [
    "# =========== stat kn_bag base ==============\n",
    "\n",
    "tot_bag_num = 0\n",
    "tot_rel_num = 0\n",
    "tot_kneurons = 0\n",
    "base_kn_bag_counter = Counter()\n",
    "for filename in os.listdir(kn_dir):\n",
    "    if not filename.startswith('base_kn_bag-'):\n",
    "        continue\n",
    "    with open(os.path.join(kn_dir, filename), 'r') as f:\n",
    "        kn_bag_list = json.load(f)\n",
    "        for kn_bag in kn_bag_list:\n",
    "            for kn in kn_bag:\n",
    "                base_kn_bag_counter.update([kn[0]])\n",
    "        tot_bag_num += len(kn_bag_list)\n",
    "for k, v in base_kn_bag_counter.items():\n",
    "    tot_kneurons += base_kn_bag_counter[k]\n",
    "for k, v in base_kn_bag_counter.items():\n",
    "    base_kn_bag_counter[k] /= tot_kneurons\n",
    "# average # Kneurons\n",
    "print('average base_kn', tot_kneurons / tot_bag_num)"
   ]
  },
  {
   "cell_type": "code",
   "execution_count": 18,
   "metadata": {},
   "outputs": [
    {
     "data": {
      "image/png": "[encoded data removed]",
      "text/plain": [
       "<Figure size 800x300 with 1 Axes>"
      ]
     },
     "metadata": {},
     "output_type": "display_data"
    }
   ],
   "source": [
    "# =========== plot knowledge neuron distribution ===========\n",
    "\n",
    "plt.figure(figsize=(8, 3))\n",
    "\n",
    "x = np.array([i + 1 for i in range(12)])\n",
    "y = np.array([kn_bag_counter[i] for i in range(12)])\n",
    "plt.xlabel('Layer', fontsize=20)\n",
    "plt.ylabel('Percentage', fontsize=20)\n",
    "plt.xticks([i + 1 for i in range(12)], labels=[i + 1 for i in range(12)], fontsize=20)\n",
    "plt.yticks(np.arange(-0.4, 0.5, 0.1), labels=[f'{np.abs(i)}%' for i in range(-40, 50, 10)], fontsize=18)\n",
    "plt.tick_params(axis=\"y\", left=False, right=True, labelleft=False, labelright=True, rotation=0, labelsize=18)\n",
    "plt.ylim(-y.max() - 0.03, y.max() + 0.03)\n",
    "plt.xlim(0.3, 12.7)\n",
    "bottom = -y\n",
    "y = y * 2\n",
    "plt.bar(x, y, width=1.02, color='#0165fc', bottom=bottom)\n",
    "plt.grid(True, axis='y', alpha=0.3)\n",
    "plt.tight_layout()\n",
    "\n",
    "#plt.savefig(os.path.join(fig_dir, 'kneurons_distribution.pdf'), dpi=100)\n",
    "plt.show()\n",
    "plt.close()"
   ]
  },
  {
   "cell_type": "code",
   "execution_count": 19,
   "metadata": {},
   "outputs": [],
   "source": [
    "# ========================================================================================\n",
    "#                       knowledge neuron intersection analysis\n",
    "# ========================================================================================\n",
    "\n",
    "\n",
    "def pos_list2str(pos_list):\n",
    "    return '@'.join([str(pos) for pos in pos_list])\n",
    "\n",
    "\n",
    "def pos_str2list(pos_str):\n",
    "    return [int(pos) for pos in pos_str.split('@')]\n",
    "\n",
    "\n",
    "def cal_intersec(kn_bag_1, kn_bag_2):\n",
    "    kn_bag_1 = set(['@'.join(map(str, kn)) for kn in kn_bag_1])\n",
    "    kn_bag_2 = set(['@'.join(map(str, kn)) for kn in kn_bag_2])\n",
    "    return len(kn_bag_1.intersection(kn_bag_2))"
   ]
  },
  {
   "cell_type": "code",
   "execution_count": 20,
   "metadata": {},
   "outputs": [
    {
     "name": "stdout",
     "output_type": "stream",
     "text": [
      "calculating P19\n",
      "calculating P20\n",
      "calculating P279\n",
      "calculating P413\n",
      "calculating P37\n",
      "calculating P101\n",
      "ig kn has on average 1.0279874825689979 inner kn interseciton\n"
     ]
    }
   ],
   "source": [
    "# ====== load ig kn =======\n",
    "\n",
    "kn_bag_list_per_rel = {}\n",
    "for filename in os.listdir(kn_dir):\n",
    "    if not filename.startswith('kn_bag-'):\n",
    "        continue\n",
    "    with open(os.path.join(kn_dir, filename), 'r') as f:\n",
    "        kn_bag_list = json.load(f)\n",
    "    rel = filename.split('.')[0].split('-')[1]\n",
    "    kn_bag_list_per_rel[rel] = kn_bag_list\n",
    "\n",
    "# ig inner\n",
    "inner_ave_intersec = []\n",
    "for rel, kn_bag_list in kn_bag_list_per_rel.items():\n",
    "    print(f'calculating {rel}')\n",
    "    len_kn_bag_list = len(kn_bag_list)\n",
    "    for i in range(0, len_kn_bag_list):\n",
    "        for j in range(i + 1, len_kn_bag_list):\n",
    "            kn_bag_1 = kn_bag_list[i]\n",
    "            kn_bag_2 = kn_bag_list[j]\n",
    "            num_intersec = cal_intersec(kn_bag_1, kn_bag_2)\n",
    "            inner_ave_intersec.append(num_intersec)\n",
    "inner_ave_intersec = np.array(inner_ave_intersec).mean()\n",
    "print(f'ig kn has on average {inner_ave_intersec} inner kn interseciton')"
   ]
  },
  {
   "cell_type": "code",
   "execution_count": 21,
   "metadata": {},
   "outputs": [
    {
     "name": "stdout",
     "output_type": "stream",
     "text": [
      "calculating P19\n",
      "calculating P20\n",
      "calculating P279\n",
      "calculating P413\n",
      "calculating P37\n",
      "calculating P101\n",
      "ig kn has on average 0.043254794520547944 inter kn interseciton\n"
     ]
    }
   ],
   "source": [
    "# ig inter\n",
    "inter_ave_intersec = []\n",
    "for rel, kn_bag_list in kn_bag_list_per_rel.items():\n",
    "    print(f'calculating {rel}')\n",
    "    len_kn_bag_list = len(kn_bag_list)\n",
    "    for i in range(0, len_kn_bag_list):\n",
    "        for j in range(0, 100):\n",
    "            kn_bag_1 = kn_bag_list[i]\n",
    "            other_rel = random.choice([x for x in kn_bag_list_per_rel.keys() if x != rel])\n",
    "            other_idx = random.randint(0, len(kn_bag_list_per_rel[other_rel]) - 1)\n",
    "            kn_bag_2 = kn_bag_list_per_rel[other_rel][other_idx]\n",
    "            num_intersec = cal_intersec(kn_bag_1, kn_bag_2)\n",
    "            inter_ave_intersec.append(num_intersec)\n",
    "inter_ave_intersec = np.array(inter_ave_intersec).mean()\n",
    "print(f'ig kn has on average {inter_ave_intersec} inter kn interseciton')"
   ]
  },
  {
   "cell_type": "code",
   "execution_count": 22,
   "metadata": {},
   "outputs": [],
   "source": [
    "# ====== load base kn =======\n",
    "kn_bag_list_per_rel = {}\n",
    "for filename in os.listdir(kn_dir):\n",
    "    if not filename.startswith('base_kn_bag-'):\n",
    "        continue\n",
    "    with open(os.path.join(kn_dir, filename), 'r') as f:\n",
    "        kn_bag_list = json.load(f)\n",
    "    rel = filename.split('.')[0].split('-')[1]\n",
    "    kn_bag_list_per_rel[rel] = kn_bag_list"
   ]
  },
  {
   "cell_type": "code",
   "execution_count": 23,
   "metadata": {},
   "outputs": [
    {
     "name": "stdout",
     "output_type": "stream",
     "text": [
      "calculating P279\n",
      "calculating P19\n",
      "calculating P37\n",
      "calculating P413\n",
      "calculating P101\n",
      "calculating P20\n",
      "base kn has on average 2.750908750115414 inner kn interseciton\n"
     ]
    }
   ],
   "source": [
    "# base inner\n",
    "inner_ave_intersec = []\n",
    "for rel, kn_bag_list in kn_bag_list_per_rel.items():\n",
    "    print(f'calculating {rel}')\n",
    "    len_kn_bag_list = len(kn_bag_list)\n",
    "    for i in range(0, len_kn_bag_list):\n",
    "        for j in range(i + 1, len_kn_bag_list):\n",
    "            kn_bag_1 = kn_bag_list[i]\n",
    "            kn_bag_2 = kn_bag_list[j]\n",
    "            num_intersec = cal_intersec(kn_bag_1, kn_bag_2)\n",
    "            inner_ave_intersec.append(num_intersec)\n",
    "inner_ave_intersec = np.array(inner_ave_intersec).mean()\n",
    "print(f'base kn has on average {inner_ave_intersec} inner kn interseciton')"
   ]
  },
  {
   "cell_type": "code",
   "execution_count": 24,
   "metadata": {},
   "outputs": [
    {
     "name": "stdout",
     "output_type": "stream",
     "text": [
      "calculating P279\n",
      "calculating P19\n",
      "calculating P37\n",
      "calculating P413\n",
      "calculating P101\n",
      "calculating P20\n",
      "base kn has on average 2.080792694063927 inter kn interseciton\n"
     ]
    }
   ],
   "source": [
    "# base inter\n",
    "inter_ave_intersec = []\n",
    "for rel, kn_bag_list in kn_bag_list_per_rel.items():\n",
    "    print(f'calculating {rel}')\n",
    "    len_kn_bag_list = len(kn_bag_list)\n",
    "    for i in range(0, len_kn_bag_list):\n",
    "        for j in range(0, 100):\n",
    "            kn_bag_1 = kn_bag_list[i]\n",
    "            other_rel = random.choice([x for x in kn_bag_list_per_rel.keys() if x != rel])\n",
    "            other_idx = random.randint(0, len(kn_bag_list_per_rel[other_rel]) - 1)\n",
    "            kn_bag_2 = kn_bag_list_per_rel[other_rel][other_idx]\n",
    "            num_intersec = cal_intersec(kn_bag_1, kn_bag_2)\n",
    "            inter_ave_intersec.append(num_intersec)\n",
    "inter_ave_intersec = np.array(inter_ave_intersec).mean()\n",
    "print(f'base kn has on average {inter_ave_intersec} inter kn interseciton')"
   ]
  }
 ],
 "metadata": {
  "kernelspec": {
   "display_name": "NLP",
   "language": "python",
   "name": "python3"
  },
  "language_info": {
   "codemirror_mode": {
    "name": "ipython",
    "version": 3
   },
   "file_extension": ".py",
   "mimetype": "text/x-python",
   "name": "python",
   "nbconvert_exporter": "python",
   "pygments_lexer": "ipython3",
   "version": "3.10.13"
  }
 },
 "nbformat": 4,
 "nbformat_minor": 2
}
